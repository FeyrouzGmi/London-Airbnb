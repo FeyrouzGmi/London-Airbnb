{
 "cells": [
  {
   "cell_type": "markdown",
   "id": "43779919",
   "metadata": {},
   "source": [
    "# 1. Importing Librairies"
   ]
  },
  {
   "cell_type": "code",
   "execution_count": 3,
   "id": "69f98b31",
   "metadata": {},
   "outputs": [],
   "source": [
    "import pandas as pd\n",
    "import numpy as np\n",
    "import os"
   ]
  },
  {
   "cell_type": "markdown",
   "id": "0aa8600f",
   "metadata": {},
   "source": [
    "# 2. Importing data"
   ]
  },
  {
   "cell_type": "code",
   "execution_count": 15,
   "id": "a18b7b0b",
   "metadata": {},
   "outputs": [],
   "source": [
    "path = r'C:\\Users\\fairo\\Downloads\\London Airbnb'"
   ]
  },
  {
   "cell_type": "code",
   "execution_count": 16,
   "id": "3be7ab72",
   "metadata": {},
   "outputs": [],
   "source": [
    "df = pd.read_csv(os.path.join(path, 'listings.csv' ), index_col = False)"
   ]
  },
  {
   "cell_type": "code",
   "execution_count": 17,
   "id": "57c90809",
   "metadata": {},
   "outputs": [
    {
     "data": {
      "text/html": [
       "<div>\n",
       "<style scoped>\n",
       "    .dataframe tbody tr th:only-of-type {\n",
       "        vertical-align: middle;\n",
       "    }\n",
       "\n",
       "    .dataframe tbody tr th {\n",
       "        vertical-align: top;\n",
       "    }\n",
       "\n",
       "    .dataframe thead th {\n",
       "        text-align: right;\n",
       "    }\n",
       "</style>\n",
       "<table border=\"1\" class=\"dataframe\">\n",
       "  <thead>\n",
       "    <tr style=\"text-align: right;\">\n",
       "      <th></th>\n",
       "      <th>id</th>\n",
       "      <th>name</th>\n",
       "      <th>host_id</th>\n",
       "      <th>host_name</th>\n",
       "      <th>neighbourhood</th>\n",
       "      <th>latitude</th>\n",
       "      <th>longitude</th>\n",
       "      <th>room_type</th>\n",
       "      <th>price</th>\n",
       "      <th>minimum_nights</th>\n",
       "      <th>number_of_reviews</th>\n",
       "      <th>last_review</th>\n",
       "      <th>reviews_per_month</th>\n",
       "      <th>calculated_host_listings_count</th>\n",
       "      <th>availability_365</th>\n",
       "    </tr>\n",
       "  </thead>\n",
       "  <tbody>\n",
       "    <tr>\n",
       "      <th>0</th>\n",
       "      <td>13913</td>\n",
       "      <td>Holiday London DB Room Let-on going</td>\n",
       "      <td>54730</td>\n",
       "      <td>Alina</td>\n",
       "      <td>Islington</td>\n",
       "      <td>51.56802</td>\n",
       "      <td>-0.11121</td>\n",
       "      <td>Private room</td>\n",
       "      <td>65</td>\n",
       "      <td>1</td>\n",
       "      <td>16</td>\n",
       "      <td>6/10/2019</td>\n",
       "      <td>0.15</td>\n",
       "      <td>3</td>\n",
       "      <td>347</td>\n",
       "    </tr>\n",
       "    <tr>\n",
       "      <th>1</th>\n",
       "      <td>15400</td>\n",
       "      <td>Bright Chelsea  Apartment. Chelsea!</td>\n",
       "      <td>60302</td>\n",
       "      <td>Philippa</td>\n",
       "      <td>Kensington and Chelsea</td>\n",
       "      <td>51.48796</td>\n",
       "      <td>-0.16898</td>\n",
       "      <td>Entire home/apt</td>\n",
       "      <td>100</td>\n",
       "      <td>3</td>\n",
       "      <td>85</td>\n",
       "      <td>5/5/2019</td>\n",
       "      <td>0.73</td>\n",
       "      <td>1</td>\n",
       "      <td>203</td>\n",
       "    </tr>\n",
       "    <tr>\n",
       "      <th>2</th>\n",
       "      <td>17402</td>\n",
       "      <td>Superb 3-Bed/2 Bath &amp; Wifi: Trendy W1</td>\n",
       "      <td>67564</td>\n",
       "      <td>Liz</td>\n",
       "      <td>Westminster</td>\n",
       "      <td>51.52098</td>\n",
       "      <td>-0.14002</td>\n",
       "      <td>Entire home/apt</td>\n",
       "      <td>300</td>\n",
       "      <td>3</td>\n",
       "      <td>41</td>\n",
       "      <td>6/19/2019</td>\n",
       "      <td>0.41</td>\n",
       "      <td>14</td>\n",
       "      <td>269</td>\n",
       "    </tr>\n",
       "    <tr>\n",
       "      <th>3</th>\n",
       "      <td>24328</td>\n",
       "      <td>Battersea bedroom &amp; office w parking shared ga...</td>\n",
       "      <td>41759</td>\n",
       "      <td>Joe</td>\n",
       "      <td>Wandsworth</td>\n",
       "      <td>51.47298</td>\n",
       "      <td>-0.16376</td>\n",
       "      <td>Entire home/apt</td>\n",
       "      <td>175</td>\n",
       "      <td>30</td>\n",
       "      <td>93</td>\n",
       "      <td>6/8/2019</td>\n",
       "      <td>0.88</td>\n",
       "      <td>1</td>\n",
       "      <td>329</td>\n",
       "    </tr>\n",
       "    <tr>\n",
       "      <th>4</th>\n",
       "      <td>25023</td>\n",
       "      <td>All-comforts 2-bed flat near Wimbledon tennis</td>\n",
       "      <td>102813</td>\n",
       "      <td>Amanda</td>\n",
       "      <td>Wandsworth</td>\n",
       "      <td>51.44687</td>\n",
       "      <td>-0.21874</td>\n",
       "      <td>Entire home/apt</td>\n",
       "      <td>65</td>\n",
       "      <td>4</td>\n",
       "      <td>28</td>\n",
       "      <td>6/22/2019</td>\n",
       "      <td>0.69</td>\n",
       "      <td>1</td>\n",
       "      <td>2</td>\n",
       "    </tr>\n",
       "  </tbody>\n",
       "</table>\n",
       "</div>"
      ],
      "text/plain": [
       "      id                                               name  host_id  \\\n",
       "0  13913                Holiday London DB Room Let-on going    54730   \n",
       "1  15400                Bright Chelsea  Apartment. Chelsea!    60302   \n",
       "2  17402              Superb 3-Bed/2 Bath & Wifi: Trendy W1    67564   \n",
       "3  24328  Battersea bedroom & office w parking shared ga...    41759   \n",
       "4  25023      All-comforts 2-bed flat near Wimbledon tennis   102813   \n",
       "\n",
       "  host_name           neighbourhood  latitude  longitude        room_type  \\\n",
       "0     Alina               Islington  51.56802   -0.11121     Private room   \n",
       "1  Philippa  Kensington and Chelsea  51.48796   -0.16898  Entire home/apt   \n",
       "2       Liz             Westminster  51.52098   -0.14002  Entire home/apt   \n",
       "3       Joe              Wandsworth  51.47298   -0.16376  Entire home/apt   \n",
       "4    Amanda              Wandsworth  51.44687   -0.21874  Entire home/apt   \n",
       "\n",
       "   price  minimum_nights  number_of_reviews last_review  reviews_per_month  \\\n",
       "0     65               1                 16   6/10/2019               0.15   \n",
       "1    100               3                 85    5/5/2019               0.73   \n",
       "2    300               3                 41   6/19/2019               0.41   \n",
       "3    175              30                 93    6/8/2019               0.88   \n",
       "4     65               4                 28   6/22/2019               0.69   \n",
       "\n",
       "   calculated_host_listings_count  availability_365  \n",
       "0                               3               347  \n",
       "1                               1               203  \n",
       "2                              14               269  \n",
       "3                               1               329  \n",
       "4                               1                 2  "
      ]
     },
     "execution_count": 17,
     "metadata": {},
     "output_type": "execute_result"
    }
   ],
   "source": [
    "df.head()"
   ]
  },
  {
   "cell_type": "markdown",
   "id": "9bafb92d",
   "metadata": {},
   "source": [
    "# 3. Exploring Data"
   ]
  },
  {
   "cell_type": "code",
   "execution_count": 18,
   "id": "b736c8df",
   "metadata": {},
   "outputs": [
    {
     "data": {
      "text/plain": [
       "<bound method DataFrame.info of              id                                               name   host_id  \\\n",
       "0         13913                Holiday London DB Room Let-on going     54730   \n",
       "1         15400                Bright Chelsea  Apartment. Chelsea!     60302   \n",
       "2         17402              Superb 3-Bed/2 Bath & Wifi: Trendy W1     67564   \n",
       "3         24328  Battersea bedroom & office w parking shared ga...     41759   \n",
       "4         25023      All-comforts 2-bed flat near Wimbledon tennis    102813   \n",
       "...         ...                                                ...       ...   \n",
       "83845  36583878                                7 VH Loft Apartment  90770681   \n",
       "83846  36584535                  Lambs Passage 1 Bedroom Apartment  47609036   \n",
       "83847  36585425               1 Bedroom Apartment in Lambs Passage  47609036   \n",
       "83848  36585645                            Lambs Passage 1 Bedroom  47609036   \n",
       "83849  36585818              1 Bedroom Apartment in Lanterns Court  47609036   \n",
       "\n",
       "      host_name           neighbourhood  latitude  longitude        room_type  \\\n",
       "0         Alina               Islington  51.56802   -0.11121     Private room   \n",
       "1      Philippa  Kensington and Chelsea  51.48796   -0.16898  Entire home/apt   \n",
       "2           Liz             Westminster  51.52098   -0.14002  Entire home/apt   \n",
       "3           Joe              Wandsworth  51.47298   -0.16376  Entire home/apt   \n",
       "4        Amanda              Wandsworth  51.44687   -0.21874  Entire home/apt   \n",
       "...         ...                     ...       ...        ...              ...   \n",
       "83845      Sara             Westminster  51.53057   -0.18423  Entire home/apt   \n",
       "83846       Ben               Islington  51.52301   -0.08979  Entire home/apt   \n",
       "83847       Ben               Islington  51.52301   -0.08979  Entire home/apt   \n",
       "83848       Ben               Islington  51.52301   -0.08979  Entire home/apt   \n",
       "83849       Ben           Tower Hamlets  51.51050   -0.01788  Entire home/apt   \n",
       "\n",
       "       price  minimum_nights  number_of_reviews last_review  \\\n",
       "0         65               1                 16   6/10/2019   \n",
       "1        100               3                 85    5/5/2019   \n",
       "2        300               3                 41   6/19/2019   \n",
       "3        175              30                 93    6/8/2019   \n",
       "4         65               4                 28   6/22/2019   \n",
       "...      ...             ...                ...         ...   \n",
       "83845    100               2                  0         NaN   \n",
       "83846     82              14                  0         NaN   \n",
       "83847     78              21                  0         NaN   \n",
       "83848     82              21                  0         NaN   \n",
       "83849     72              14                  0         NaN   \n",
       "\n",
       "       reviews_per_month  calculated_host_listings_count  availability_365  \n",
       "0                   0.15                               3               347  \n",
       "1                   0.73                               1               203  \n",
       "2                   0.41                              14               269  \n",
       "3                   0.88                               1               329  \n",
       "4                   0.69                               1                 2  \n",
       "...                  ...                             ...               ...  \n",
       "83845                NaN                               1               209  \n",
       "83846                NaN                              18                35  \n",
       "83847                NaN                              18                36  \n",
       "83848                NaN                              18                36  \n",
       "83849                NaN                              18                31  \n",
       "\n",
       "[83850 rows x 15 columns]>"
      ]
     },
     "execution_count": 18,
     "metadata": {},
     "output_type": "execute_result"
    }
   ],
   "source": [
    "df.info"
   ]
  },
  {
   "cell_type": "code",
   "execution_count": 19,
   "id": "3c42566f",
   "metadata": {},
   "outputs": [
    {
     "data": {
      "text/plain": [
       "id                                  int64\n",
       "name                               object\n",
       "host_id                             int64\n",
       "host_name                          object\n",
       "neighbourhood                      object\n",
       "latitude                          float64\n",
       "longitude                         float64\n",
       "room_type                          object\n",
       "price                               int64\n",
       "minimum_nights                      int64\n",
       "number_of_reviews                   int64\n",
       "last_review                        object\n",
       "reviews_per_month                 float64\n",
       "calculated_host_listings_count      int64\n",
       "availability_365                    int64\n",
       "dtype: object"
      ]
     },
     "execution_count": 19,
     "metadata": {},
     "output_type": "execute_result"
    }
   ],
   "source": [
    "df.dtypes"
   ]
  },
  {
   "cell_type": "code",
   "execution_count": 20,
   "id": "7b71bfe2",
   "metadata": {},
   "outputs": [
    {
     "data": {
      "text/html": [
       "<div>\n",
       "<style scoped>\n",
       "    .dataframe tbody tr th:only-of-type {\n",
       "        vertical-align: middle;\n",
       "    }\n",
       "\n",
       "    .dataframe tbody tr th {\n",
       "        vertical-align: top;\n",
       "    }\n",
       "\n",
       "    .dataframe thead th {\n",
       "        text-align: right;\n",
       "    }\n",
       "</style>\n",
       "<table border=\"1\" class=\"dataframe\">\n",
       "  <thead>\n",
       "    <tr style=\"text-align: right;\">\n",
       "      <th></th>\n",
       "      <th>id</th>\n",
       "      <th>host_id</th>\n",
       "      <th>latitude</th>\n",
       "      <th>longitude</th>\n",
       "      <th>price</th>\n",
       "      <th>minimum_nights</th>\n",
       "      <th>number_of_reviews</th>\n",
       "      <th>reviews_per_month</th>\n",
       "      <th>calculated_host_listings_count</th>\n",
       "      <th>availability_365</th>\n",
       "    </tr>\n",
       "  </thead>\n",
       "  <tbody>\n",
       "    <tr>\n",
       "      <th>count</th>\n",
       "      <td>8.385000e+04</td>\n",
       "      <td>8.385000e+04</td>\n",
       "      <td>83850.000000</td>\n",
       "      <td>83850.000000</td>\n",
       "      <td>83850.000000</td>\n",
       "      <td>83850.000000</td>\n",
       "      <td>83850.000000</td>\n",
       "      <td>62827.000000</td>\n",
       "      <td>83850.000000</td>\n",
       "      <td>83850.000000</td>\n",
       "    </tr>\n",
       "    <tr>\n",
       "      <th>mean</th>\n",
       "      <td>2.134820e+07</td>\n",
       "      <td>7.822874e+07</td>\n",
       "      <td>51.509496</td>\n",
       "      <td>-0.128389</td>\n",
       "      <td>121.656303</td>\n",
       "      <td>4.201956</td>\n",
       "      <td>16.484317</td>\n",
       "      <td>1.208366</td>\n",
       "      <td>25.599499</td>\n",
       "      <td>116.327835</td>\n",
       "    </tr>\n",
       "    <tr>\n",
       "      <th>std</th>\n",
       "      <td>1.028356e+07</td>\n",
       "      <td>7.823495e+07</td>\n",
       "      <td>0.046238</td>\n",
       "      <td>0.092231</td>\n",
       "      <td>224.900151</td>\n",
       "      <td>16.070438</td>\n",
       "      <td>34.892659</td>\n",
       "      <td>1.416845</td>\n",
       "      <td>137.240553</td>\n",
       "      <td>132.403346</td>\n",
       "    </tr>\n",
       "    <tr>\n",
       "      <th>min</th>\n",
       "      <td>1.391300e+04</td>\n",
       "      <td>2.010000e+03</td>\n",
       "      <td>51.292720</td>\n",
       "      <td>-0.501300</td>\n",
       "      <td>0.000000</td>\n",
       "      <td>1.000000</td>\n",
       "      <td>0.000000</td>\n",
       "      <td>0.000000</td>\n",
       "      <td>1.000000</td>\n",
       "      <td>0.000000</td>\n",
       "    </tr>\n",
       "    <tr>\n",
       "      <th>25%</th>\n",
       "      <td>1.364932e+07</td>\n",
       "      <td>1.451736e+07</td>\n",
       "      <td>51.485240</td>\n",
       "      <td>-0.188390</td>\n",
       "      <td>45.000000</td>\n",
       "      <td>1.000000</td>\n",
       "      <td>0.000000</td>\n",
       "      <td>0.240000</td>\n",
       "      <td>1.000000</td>\n",
       "      <td>0.000000</td>\n",
       "    </tr>\n",
       "    <tr>\n",
       "      <th>50%</th>\n",
       "      <td>2.200927e+07</td>\n",
       "      <td>4.451248e+07</td>\n",
       "      <td>51.513970</td>\n",
       "      <td>-0.125810</td>\n",
       "      <td>81.000000</td>\n",
       "      <td>2.000000</td>\n",
       "      <td>4.000000</td>\n",
       "      <td>0.740000</td>\n",
       "      <td>1.000000</td>\n",
       "      <td>55.000000</td>\n",
       "    </tr>\n",
       "    <tr>\n",
       "      <th>75%</th>\n",
       "      <td>3.031554e+07</td>\n",
       "      <td>1.325813e+08</td>\n",
       "      <td>51.537400</td>\n",
       "      <td>-0.070370</td>\n",
       "      <td>140.000000</td>\n",
       "      <td>3.000000</td>\n",
       "      <td>17.000000</td>\n",
       "      <td>1.640000</td>\n",
       "      <td>4.000000</td>\n",
       "      <td>229.000000</td>\n",
       "    </tr>\n",
       "    <tr>\n",
       "      <th>max</th>\n",
       "      <td>3.658582e+07</td>\n",
       "      <td>2.749791e+08</td>\n",
       "      <td>51.686570</td>\n",
       "      <td>0.296570</td>\n",
       "      <td>13700.000000</td>\n",
       "      <td>1125.000000</td>\n",
       "      <td>665.000000</td>\n",
       "      <td>30.930000</td>\n",
       "      <td>1161.000000</td>\n",
       "      <td>365.000000</td>\n",
       "    </tr>\n",
       "  </tbody>\n",
       "</table>\n",
       "</div>"
      ],
      "text/plain": [
       "                 id       host_id      latitude     longitude         price  \\\n",
       "count  8.385000e+04  8.385000e+04  83850.000000  83850.000000  83850.000000   \n",
       "mean   2.134820e+07  7.822874e+07     51.509496     -0.128389    121.656303   \n",
       "std    1.028356e+07  7.823495e+07      0.046238      0.092231    224.900151   \n",
       "min    1.391300e+04  2.010000e+03     51.292720     -0.501300      0.000000   \n",
       "25%    1.364932e+07  1.451736e+07     51.485240     -0.188390     45.000000   \n",
       "50%    2.200927e+07  4.451248e+07     51.513970     -0.125810     81.000000   \n",
       "75%    3.031554e+07  1.325813e+08     51.537400     -0.070370    140.000000   \n",
       "max    3.658582e+07  2.749791e+08     51.686570      0.296570  13700.000000   \n",
       "\n",
       "       minimum_nights  number_of_reviews  reviews_per_month  \\\n",
       "count    83850.000000       83850.000000       62827.000000   \n",
       "mean         4.201956          16.484317           1.208366   \n",
       "std         16.070438          34.892659           1.416845   \n",
       "min          1.000000           0.000000           0.000000   \n",
       "25%          1.000000           0.000000           0.240000   \n",
       "50%          2.000000           4.000000           0.740000   \n",
       "75%          3.000000          17.000000           1.640000   \n",
       "max       1125.000000         665.000000          30.930000   \n",
       "\n",
       "       calculated_host_listings_count  availability_365  \n",
       "count                    83850.000000      83850.000000  \n",
       "mean                        25.599499        116.327835  \n",
       "std                        137.240553        132.403346  \n",
       "min                          1.000000          0.000000  \n",
       "25%                          1.000000          0.000000  \n",
       "50%                          1.000000         55.000000  \n",
       "75%                          4.000000        229.000000  \n",
       "max                       1161.000000        365.000000  "
      ]
     },
     "execution_count": 20,
     "metadata": {},
     "output_type": "execute_result"
    }
   ],
   "source": [
    "df.describe()"
   ]
  },
  {
   "cell_type": "markdown",
   "id": "588d1fda",
   "metadata": {},
   "source": [
    "# 4. Data Wrangling"
   ]
  },
  {
   "cell_type": "code",
   "execution_count": 21,
   "id": "9417acc4",
   "metadata": {},
   "outputs": [],
   "source": [
    "# Renaming the column 'id'\n",
    "df.rename(columns = {'id' : 'listing_id'}, inplace = True)"
   ]
  },
  {
   "cell_type": "markdown",
   "id": "f313389a",
   "metadata": {},
   "source": [
    "The column was renamed for more clarity."
   ]
  },
  {
   "cell_type": "code",
   "execution_count": 26,
   "id": "b30bb59f",
   "metadata": {},
   "outputs": [],
   "source": [
    "# Changing data type\n",
    "df['listing_id'] = df['listing_id'].astype('str')"
   ]
  },
  {
   "cell_type": "code",
   "execution_count": 24,
   "id": "981550ef",
   "metadata": {},
   "outputs": [],
   "source": [
    "df['host_id'] = df['host_id'].astype('str')"
   ]
  },
  {
   "cell_type": "code",
   "execution_count": 28,
   "id": "2f1a80be",
   "metadata": {},
   "outputs": [
    {
     "data": {
      "text/plain": [
       "listing_id                         object\n",
       "name                               object\n",
       "host_id                            object\n",
       "host_name                          object\n",
       "neighbourhood                      object\n",
       "latitude                          float64\n",
       "longitude                         float64\n",
       "room_type                          object\n",
       "price                               int64\n",
       "minimum_nights                      int64\n",
       "number_of_reviews                   int64\n",
       "last_review                        object\n",
       "reviews_per_month                 float64\n",
       "calculated_host_listings_count      int64\n",
       "availability_365                    int64\n",
       "dtype: object"
      ]
     },
     "execution_count": 28,
     "metadata": {},
     "output_type": "execute_result"
    }
   ],
   "source": [
    "df.dtypes"
   ]
  },
  {
   "cell_type": "markdown",
   "id": "bc5bc436",
   "metadata": {},
   "source": [
    "# 5. Consistency Checks"
   ]
  },
  {
   "cell_type": "code",
   "execution_count": 29,
   "id": "05be13a1",
   "metadata": {},
   "outputs": [
    {
     "data": {
      "text/plain": [
       "listing_id                            0\n",
       "name                                 26\n",
       "host_id                               0\n",
       "host_name                            47\n",
       "neighbourhood                         0\n",
       "latitude                              0\n",
       "longitude                             0\n",
       "room_type                             0\n",
       "price                                 0\n",
       "minimum_nights                        0\n",
       "number_of_reviews                     0\n",
       "last_review                       21023\n",
       "reviews_per_month                 21023\n",
       "calculated_host_listings_count        0\n",
       "availability_365                      0\n",
       "dtype: int64"
      ]
     },
     "execution_count": 29,
     "metadata": {},
     "output_type": "execute_result"
    }
   ],
   "source": [
    "# Finding missing values\n",
    "df.isnull().sum()"
   ]
  },
  {
   "cell_type": "code",
   "execution_count": 30,
   "id": "43721a75",
   "metadata": {},
   "outputs": [],
   "source": [
    "# Finding duplicates\n",
    "df_dups = df[df.duplicated()]"
   ]
  },
  {
   "cell_type": "code",
   "execution_count": 31,
   "id": "c8b337da",
   "metadata": {},
   "outputs": [
    {
     "data": {
      "text/html": [
       "<div>\n",
       "<style scoped>\n",
       "    .dataframe tbody tr th:only-of-type {\n",
       "        vertical-align: middle;\n",
       "    }\n",
       "\n",
       "    .dataframe tbody tr th {\n",
       "        vertical-align: top;\n",
       "    }\n",
       "\n",
       "    .dataframe thead th {\n",
       "        text-align: right;\n",
       "    }\n",
       "</style>\n",
       "<table border=\"1\" class=\"dataframe\">\n",
       "  <thead>\n",
       "    <tr style=\"text-align: right;\">\n",
       "      <th></th>\n",
       "      <th>listing_id</th>\n",
       "      <th>name</th>\n",
       "      <th>host_id</th>\n",
       "      <th>host_name</th>\n",
       "      <th>neighbourhood</th>\n",
       "      <th>latitude</th>\n",
       "      <th>longitude</th>\n",
       "      <th>room_type</th>\n",
       "      <th>price</th>\n",
       "      <th>minimum_nights</th>\n",
       "      <th>number_of_reviews</th>\n",
       "      <th>last_review</th>\n",
       "      <th>reviews_per_month</th>\n",
       "      <th>calculated_host_listings_count</th>\n",
       "      <th>availability_365</th>\n",
       "    </tr>\n",
       "  </thead>\n",
       "  <tbody>\n",
       "  </tbody>\n",
       "</table>\n",
       "</div>"
      ],
      "text/plain": [
       "Empty DataFrame\n",
       "Columns: [listing_id, name, host_id, host_name, neighbourhood, latitude, longitude, room_type, price, minimum_nights, number_of_reviews, last_review, reviews_per_month, calculated_host_listings_count, availability_365]\n",
       "Index: []"
      ]
     },
     "execution_count": 31,
     "metadata": {},
     "output_type": "execute_result"
    }
   ],
   "source": [
    "df_dups"
   ]
  },
  {
   "cell_type": "markdown",
   "id": "f3071ae6",
   "metadata": {},
   "source": [
    "# 6. Exporting Data"
   ]
  },
  {
   "cell_type": "code",
   "execution_count": 33,
   "id": "93ed032e",
   "metadata": {},
   "outputs": [],
   "source": [
    "df.to_csv(os.path.join(path, 'Listings_clean.csv'))"
   ]
  },
  {
   "cell_type": "code",
   "execution_count": null,
   "id": "b3e62784",
   "metadata": {},
   "outputs": [],
   "source": []
  }
 ],
 "metadata": {
  "kernelspec": {
   "display_name": "Python 3 (ipykernel)",
   "language": "python",
   "name": "python3"
  },
  "language_info": {
   "codemirror_mode": {
    "name": "ipython",
    "version": 3
   },
   "file_extension": ".py",
   "mimetype": "text/x-python",
   "name": "python",
   "nbconvert_exporter": "python",
   "pygments_lexer": "ipython3",
   "version": "3.9.13"
  }
 },
 "nbformat": 4,
 "nbformat_minor": 5
}
